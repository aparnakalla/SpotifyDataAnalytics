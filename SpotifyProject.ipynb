{
 "cells": [
  {
   "cell_type": "markdown",
   "id": "7f098833-8e5d-49f3-9376-d06e0213d550",
   "metadata": {},
   "source": [
    "## ANALYZING PERSONAL SPOTIFY DATA from 2023-04-18 to 2024-04-18"
   ]
  },
  {
   "cell_type": "code",
   "execution_count": 72,
   "id": "023e1cc4-6300-499d-92f6-84d94bb589a1",
   "metadata": {},
   "outputs": [],
   "source": [
    "import pandas as pd\n",
    "import matplotlib.dates as mdates\n",
    "import seaborn as sns\n"
   ]
  },
  {
   "cell_type": "code",
   "execution_count": 73,
   "id": "8520b326-5b14-48b6-92d9-311c41e20c1d",
   "metadata": {},
   "outputs": [],
   "source": [
    "data1 = pd.read_csv(r'/Users/aparnakalla/Downloads/StreamingHistory_music_0.csv')"
   ]
  },
  {
   "cell_type": "code",
   "execution_count": 74,
   "id": "d7483165-84d2-42b2-99df-d0fb4fe5e509",
   "metadata": {},
   "outputs": [],
   "source": [
    "data2 = pd.read_csv(r'/Users/aparnakalla/Downloads/StreamingHistory_music_1.csv')"
   ]
  },
  {
   "cell_type": "code",
   "execution_count": 75,
   "id": "0bd5fd79-8a28-49ab-a4bd-bbc0ff188234",
   "metadata": {},
   "outputs": [],
   "source": [
    "data = pd.concat([data1, data2])"
   ]
  },
  {
   "cell_type": "code",
   "execution_count": 76,
   "id": "d28df2a9-f5ea-4925-aca2-398860d7c6b0",
   "metadata": {},
   "outputs": [
    {
     "data": {
      "text/html": [
       "<div>\n",
       "<style scoped>\n",
       "    .dataframe tbody tr th:only-of-type {\n",
       "        vertical-align: middle;\n",
       "    }\n",
       "\n",
       "    .dataframe tbody tr th {\n",
       "        vertical-align: top;\n",
       "    }\n",
       "\n",
       "    .dataframe thead th {\n",
       "        text-align: right;\n",
       "    }\n",
       "</style>\n",
       "<table border=\"1\" class=\"dataframe\">\n",
       "  <thead>\n",
       "    <tr style=\"text-align: right;\">\n",
       "      <th></th>\n",
       "      <th>endTime</th>\n",
       "      <th>artistName</th>\n",
       "      <th>trackName</th>\n",
       "      <th>msPlayed</th>\n",
       "    </tr>\n",
       "  </thead>\n",
       "  <tbody>\n",
       "    <tr>\n",
       "      <th>0</th>\n",
       "      <td>2023-04-18 19:34</td>\n",
       "      <td>Ark Woods</td>\n",
       "      <td>First Flight To Mars</td>\n",
       "      <td>144232</td>\n",
       "    </tr>\n",
       "    <tr>\n",
       "      <th>1</th>\n",
       "      <td>2023-04-19 04:17</td>\n",
       "      <td>Kaifi Khalil</td>\n",
       "      <td>Kahani Suno 2.0</td>\n",
       "      <td>173637</td>\n",
       "    </tr>\n",
       "    <tr>\n",
       "      <th>2</th>\n",
       "      <td>2023-04-19 04:34</td>\n",
       "      <td>Charlie Puth</td>\n",
       "      <td>Light Switch</td>\n",
       "      <td>148654</td>\n",
       "    </tr>\n",
       "    <tr>\n",
       "      <th>3</th>\n",
       "      <td>2023-04-19 04:42</td>\n",
       "      <td>Charlie Puth</td>\n",
       "      <td>Light Switch</td>\n",
       "      <td>39186</td>\n",
       "    </tr>\n",
       "    <tr>\n",
       "      <th>4</th>\n",
       "      <td>2023-04-19 04:45</td>\n",
       "      <td>Mitraz</td>\n",
       "      <td>Alfaazo</td>\n",
       "      <td>158447</td>\n",
       "    </tr>\n",
       "    <tr>\n",
       "      <th>...</th>\n",
       "      <td>...</td>\n",
       "      <td>...</td>\n",
       "      <td>...</td>\n",
       "      <td>...</td>\n",
       "    </tr>\n",
       "    <tr>\n",
       "      <th>8916</th>\n",
       "      <td>2024-04-18 12:14</td>\n",
       "      <td>Sam Fischer</td>\n",
       "      <td>What Other People Say</td>\n",
       "      <td>1970</td>\n",
       "    </tr>\n",
       "    <tr>\n",
       "      <th>8917</th>\n",
       "      <td>2024-04-18 12:14</td>\n",
       "      <td>Madhur Sharma</td>\n",
       "      <td>Medley: Kehna Galat Galat / Halka Halka Suroor</td>\n",
       "      <td>480020</td>\n",
       "    </tr>\n",
       "    <tr>\n",
       "      <th>8918</th>\n",
       "      <td>2024-04-18 12:14</td>\n",
       "      <td>Ed Sheeran</td>\n",
       "      <td>Afterglow</td>\n",
       "      <td>780</td>\n",
       "    </tr>\n",
       "    <tr>\n",
       "      <th>8919</th>\n",
       "      <td>2024-04-18 12:17</td>\n",
       "      <td>Ed Sheeran</td>\n",
       "      <td>Afterglow</td>\n",
       "      <td>185486</td>\n",
       "    </tr>\n",
       "    <tr>\n",
       "      <th>8920</th>\n",
       "      <td>2024-04-18 15:05</td>\n",
       "      <td>Vishal-Shekhar</td>\n",
       "      <td>Jaane Kyun</td>\n",
       "      <td>72563</td>\n",
       "    </tr>\n",
       "  </tbody>\n",
       "</table>\n",
       "<p>18921 rows × 4 columns</p>\n",
       "</div>"
      ],
      "text/plain": [
       "               endTime      artistName  \\\n",
       "0     2023-04-18 19:34       Ark Woods   \n",
       "1     2023-04-19 04:17    Kaifi Khalil   \n",
       "2     2023-04-19 04:34    Charlie Puth   \n",
       "3     2023-04-19 04:42    Charlie Puth   \n",
       "4     2023-04-19 04:45          Mitraz   \n",
       "...                ...             ...   \n",
       "8916  2024-04-18 12:14     Sam Fischer   \n",
       "8917  2024-04-18 12:14   Madhur Sharma   \n",
       "8918  2024-04-18 12:14      Ed Sheeran   \n",
       "8919  2024-04-18 12:17      Ed Sheeran   \n",
       "8920  2024-04-18 15:05  Vishal-Shekhar   \n",
       "\n",
       "                                           trackName  msPlayed  \n",
       "0                               First Flight To Mars    144232  \n",
       "1                                    Kahani Suno 2.0    173637  \n",
       "2                                       Light Switch    148654  \n",
       "3                                       Light Switch     39186  \n",
       "4                                            Alfaazo    158447  \n",
       "...                                              ...       ...  \n",
       "8916                           What Other People Say      1970  \n",
       "8917  Medley: Kehna Galat Galat / Halka Halka Suroor    480020  \n",
       "8918                                       Afterglow       780  \n",
       "8919                                       Afterglow    185486  \n",
       "8920                                      Jaane Kyun     72563  \n",
       "\n",
       "[18921 rows x 4 columns]"
      ]
     },
     "execution_count": 76,
     "metadata": {},
     "output_type": "execute_result"
    }
   ],
   "source": [
    "data"
   ]
  },
  {
   "cell_type": "code",
   "execution_count": 77,
   "id": "3487ac2d-15d5-4817-b897-b46cc1a76320",
   "metadata": {},
   "outputs": [
    {
     "ename": "AttributeError",
     "evalue": "Can only use .dt accessor with datetimelike values",
     "output_type": "error",
     "traceback": [
      "\u001b[0;31m---------------------------------------------------------------------------\u001b[0m",
      "\u001b[0;31mAttributeError\u001b[0m                            Traceback (most recent call last)",
      "Cell \u001b[0;32mIn[77], line 1\u001b[0m\n\u001b[0;32m----> 1\u001b[0m data[\u001b[38;5;124m'\u001b[39m\u001b[38;5;124mendDate\u001b[39m\u001b[38;5;124m'\u001b[39m] \u001b[38;5;241m=\u001b[39m data[\u001b[38;5;124m'\u001b[39m\u001b[38;5;124mendTime\u001b[39m\u001b[38;5;124m'\u001b[39m]\u001b[38;5;241m.\u001b[39mdt\u001b[38;5;241m.\u001b[39mdate\n\u001b[1;32m      4\u001b[0m \u001b[38;5;28mprint\u001b[39m(\u001b[38;5;124m\"\u001b[39m\u001b[38;5;124mData is from \u001b[39m\u001b[38;5;124m\"\u001b[39m \u001b[38;5;241m+\u001b[39m \u001b[38;5;28mstr\u001b[39m(\u001b[38;5;28mmin\u001b[39m(data[\u001b[38;5;124m'\u001b[39m\u001b[38;5;124mendDate\u001b[39m\u001b[38;5;124m'\u001b[39m])) \u001b[38;5;241m+\u001b[39m \u001b[38;5;124m\"\u001b[39m\u001b[38;5;124m to \u001b[39m\u001b[38;5;124m\"\u001b[39m \u001b[38;5;241m+\u001b[39m \u001b[38;5;28mstr\u001b[39m(\u001b[38;5;28mmax\u001b[39m(data[\u001b[38;5;124m'\u001b[39m\u001b[38;5;124mendDate\u001b[39m\u001b[38;5;124m'\u001b[39m])))\n",
      "File \u001b[0;32m/opt/anaconda3/lib/python3.12/site-packages/pandas/core/generic.py:6299\u001b[0m, in \u001b[0;36mNDFrame.__getattr__\u001b[0;34m(self, name)\u001b[0m\n\u001b[1;32m   6292\u001b[0m \u001b[38;5;28;01mif\u001b[39;00m (\n\u001b[1;32m   6293\u001b[0m     name \u001b[38;5;129;01mnot\u001b[39;00m \u001b[38;5;129;01min\u001b[39;00m \u001b[38;5;28mself\u001b[39m\u001b[38;5;241m.\u001b[39m_internal_names_set\n\u001b[1;32m   6294\u001b[0m     \u001b[38;5;129;01mand\u001b[39;00m name \u001b[38;5;129;01mnot\u001b[39;00m \u001b[38;5;129;01min\u001b[39;00m \u001b[38;5;28mself\u001b[39m\u001b[38;5;241m.\u001b[39m_metadata\n\u001b[1;32m   6295\u001b[0m     \u001b[38;5;129;01mand\u001b[39;00m name \u001b[38;5;129;01mnot\u001b[39;00m \u001b[38;5;129;01min\u001b[39;00m \u001b[38;5;28mself\u001b[39m\u001b[38;5;241m.\u001b[39m_accessors\n\u001b[1;32m   6296\u001b[0m     \u001b[38;5;129;01mand\u001b[39;00m \u001b[38;5;28mself\u001b[39m\u001b[38;5;241m.\u001b[39m_info_axis\u001b[38;5;241m.\u001b[39m_can_hold_identifiers_and_holds_name(name)\n\u001b[1;32m   6297\u001b[0m ):\n\u001b[1;32m   6298\u001b[0m     \u001b[38;5;28;01mreturn\u001b[39;00m \u001b[38;5;28mself\u001b[39m[name]\n\u001b[0;32m-> 6299\u001b[0m \u001b[38;5;28;01mreturn\u001b[39;00m \u001b[38;5;28mobject\u001b[39m\u001b[38;5;241m.\u001b[39m\u001b[38;5;21m__getattribute__\u001b[39m(\u001b[38;5;28mself\u001b[39m, name)\n",
      "File \u001b[0;32m/opt/anaconda3/lib/python3.12/site-packages/pandas/core/accessor.py:224\u001b[0m, in \u001b[0;36mCachedAccessor.__get__\u001b[0;34m(self, obj, cls)\u001b[0m\n\u001b[1;32m    221\u001b[0m \u001b[38;5;28;01mif\u001b[39;00m obj \u001b[38;5;129;01mis\u001b[39;00m \u001b[38;5;28;01mNone\u001b[39;00m:\n\u001b[1;32m    222\u001b[0m     \u001b[38;5;66;03m# we're accessing the attribute of the class, i.e., Dataset.geo\u001b[39;00m\n\u001b[1;32m    223\u001b[0m     \u001b[38;5;28;01mreturn\u001b[39;00m \u001b[38;5;28mself\u001b[39m\u001b[38;5;241m.\u001b[39m_accessor\n\u001b[0;32m--> 224\u001b[0m accessor_obj \u001b[38;5;241m=\u001b[39m \u001b[38;5;28mself\u001b[39m\u001b[38;5;241m.\u001b[39m_accessor(obj)\n\u001b[1;32m    225\u001b[0m \u001b[38;5;66;03m# Replace the property with the accessor object. Inspired by:\u001b[39;00m\n\u001b[1;32m    226\u001b[0m \u001b[38;5;66;03m# https://www.pydanny.com/cached-property.html\u001b[39;00m\n\u001b[1;32m    227\u001b[0m \u001b[38;5;66;03m# We need to use object.__setattr__ because we overwrite __setattr__ on\u001b[39;00m\n\u001b[1;32m    228\u001b[0m \u001b[38;5;66;03m# NDFrame\u001b[39;00m\n\u001b[1;32m    229\u001b[0m \u001b[38;5;28mobject\u001b[39m\u001b[38;5;241m.\u001b[39m\u001b[38;5;21m__setattr__\u001b[39m(obj, \u001b[38;5;28mself\u001b[39m\u001b[38;5;241m.\u001b[39m_name, accessor_obj)\n",
      "File \u001b[0;32m/opt/anaconda3/lib/python3.12/site-packages/pandas/core/indexes/accessors.py:643\u001b[0m, in \u001b[0;36mCombinedDatetimelikeProperties.__new__\u001b[0;34m(cls, data)\u001b[0m\n\u001b[1;32m    640\u001b[0m \u001b[38;5;28;01melif\u001b[39;00m \u001b[38;5;28misinstance\u001b[39m(data\u001b[38;5;241m.\u001b[39mdtype, PeriodDtype):\n\u001b[1;32m    641\u001b[0m     \u001b[38;5;28;01mreturn\u001b[39;00m PeriodProperties(data, orig)\n\u001b[0;32m--> 643\u001b[0m \u001b[38;5;28;01mraise\u001b[39;00m \u001b[38;5;167;01mAttributeError\u001b[39;00m(\u001b[38;5;124m\"\u001b[39m\u001b[38;5;124mCan only use .dt accessor with datetimelike values\u001b[39m\u001b[38;5;124m\"\u001b[39m)\n",
      "\u001b[0;31mAttributeError\u001b[0m: Can only use .dt accessor with datetimelike values"
     ]
    }
   ],
   "source": [
    "data['endDate'] = data['endTime'].dt.date\n",
    "\n",
    "\n",
    "print(\"Data is from \" + str(min(data['endDate'])) + \" to \" + str(max(data['endDate'])))"
   ]
  },
  {
   "cell_type": "code",
   "execution_count": null,
   "id": "c6c6d47b-f086-4e6e-ab92-5f2d513d9b30",
   "metadata": {},
   "outputs": [],
   "source": [
    "data['endTime'] = pd.to_datetime(data['endTime'])"
   ]
  },
  {
   "cell_type": "code",
   "execution_count": null,
   "id": "1728402c-75eb-43b9-8401-0d8752da319c",
   "metadata": {},
   "outputs": [],
   "source": [
    "top_tracks = data.groupby('trackName')['msPlayed'].sum().sort_values(ascending=False).head(10)\n",
    "top_tracks_hours = top_tracks / (1000 * 60 * 60)\n",
    "\n",
    "# Display the top 10 tracks\n",
    "print(top_tracks_hours)"
   ]
  },
  {
   "cell_type": "code",
   "execution_count": null,
   "id": "ea5a7723-c6d7-4b4f-b386-d4e89f402246",
   "metadata": {},
   "outputs": [],
   "source": [
    "top_artists = data.groupby(by='artistName')['msPlayed'].sum().sort_values(ascending=False).head(10)\n",
    "top_artists_hours = top_artists / (1000 * 60 * 60)\n",
    "print(top_artists_hours)"
   ]
  },
  {
   "cell_type": "code",
   "execution_count": null,
   "id": "15d8b724-2fe6-44e1-82b6-f080531aaf66",
   "metadata": {},
   "outputs": [],
   "source": [
    "# Assuming an average song length of 3 minutes (180000 ms)\n",
    "skipped_tracks = data[data['msPlayed'] < 100000]\n",
    "\n",
    "# Calculate the percentage of skipped tracks\n",
    "skipped_percentage = len(skipped_tracks) / len(data) * 100\n",
    "\n",
    "# Display the skipped percentage\n",
    "print(f\"Percentage of skipped tracks: {skipped_percentage:.2f}%\")\n"
   ]
  },
  {
   "cell_type": "code",
   "execution_count": null,
   "id": "ee507cb9-1e83-4bf5-bdb5-1565f0559397",
   "metadata": {},
   "outputs": [],
   "source": [
    "artist_days = data.groupby('artistName')['endTime'].nunique()\n",
    "\n",
    "# Calculate the total number of days in the dataset\n",
    "total_days = data['endTime'].dt.date.nunique()\n",
    "\n",
    "# Calculate repeat listen rate for top 10 artists\n",
    "top_artist_loyalty = (artist_days / total_days).sort_values(ascending=False).head(10)\n",
    "\n",
    "# Display the top 10 artists by loyalty\n",
    "print(top_artist_loyalty)\n"
   ]
  },
  {
   "cell_type": "code",
   "execution_count": null,
   "id": "29e7ff92-960e-4e56-b442-b8e5cc28d611",
   "metadata": {},
   "outputs": [],
   "source": [
    "# Calculate unique artists and tracks listened to\n",
    "unique_artists = data['artistName'].nunique()\n",
    "unique_tracks = data['trackName'].nunique()\n",
    "\n",
    "# Display the results\n",
    "print(f\"Total unique artists: {unique_artists}\")\n",
    "print(f\"Total unique tracks: {unique_tracks}\")\n"
   ]
  },
  {
   "cell_type": "code",
   "execution_count": null,
   "id": "143663f3-466b-49fd-9ff7-67ee64049528",
   "metadata": {},
   "outputs": [],
   "source": [
    "cutoff_date = pd.to_datetime('2024-01-01')\n",
    "\n",
    "old_tracks = data[data['endTime'] < cutoff_date]\n",
    "new_tracks = data[data['endTime'] >= cutoff_date]\n",
    "\n",
    "# Compare top artists in old vs. new periods\n",
    "old_top_artists = old_tracks.groupby('artistName')['msPlayed'].sum().sort_values(ascending=False).head(10)/(1000*60)\n",
    "new_top_artists = new_tracks.groupby('artistName')['msPlayed'].sum().sort_values(ascending=False).head(10)/(1000*60)\n",
    "\n",
    "old_top_artists_list = old_top_artists.index.tolist()\n",
    "new_top_artists_list = new_top_artists.index.tolist()\n",
    "\n",
    "consistent_fav_artists = list(set(old_top_artists_list) & set(new_top_artists_list))\n",
    "\n",
    "# Display the results\n",
    "print(\"Old top artists:\")\n",
    "print(old_top_artists)\n",
    "\n",
    "print(\"\\nNew top artists:\")\n",
    "print(new_top_artists)\n",
    "\n",
    "print(\"\\nConsistent favorite artists:\")\n",
    "print(consistent_fav_artists)\n"
   ]
  },
  {
   "cell_type": "code",
   "execution_count": null,
   "id": "8e381294-159a-49a4-afc6-174a76215a31",
   "metadata": {},
   "outputs": [],
   "source": [
    "data = data.sort_values(by='endTime')\n",
    "\n",
    "data['time_diff'] = data['endTime'].diff().dt.total_seconds() / 60  # Convert to minutes\n",
    "\n",
    "data['new_session'] = (data['time_diff'] > 30).cumsum()\n",
    "\n",
    "session_analysis = data.groupby('new_session').agg(\n",
    "    session_start=('endTime', 'min'),\n",
    "    session_end=('endTime', 'max'),\n",
    "    session_duration=('msPlayed', lambda x: x.sum() / (1000 * 60)),  \n",
    "    tracks_played=('trackName', 'count')\n",
    ")\n",
    "\n",
    "\n",
    "long_sessions = session_analysis[session_analysis['session_duration'] > 30]  \n",
    "\n",
    "\n",
    "common_artists_long_sessions = data[data['new_session'].isin(long_sessions.index)].groupby('artistName').size().sort_values(ascending=False).head(10)\n",
    "common_tracks_long_sessions = data[data['new_session'].isin(long_sessions.index)].groupby('trackName').size().sort_values(ascending=False).head(10)\n",
    "\n",
    "print(\"\\nTop Artists in Long Sessions:\")\n",
    "print(common_artists_long_sessions)\n",
    "\n",
    "print(\"\\nTop Tracks in Long Sessions:\")\n",
    "print(common_tracks_long_sessions)\n"
   ]
  },
  {
   "cell_type": "code",
   "execution_count": null,
   "id": "36d170c5-0193-431d-b040-3a7505b9c39b",
   "metadata": {},
   "outputs": [],
   "source": [
    "session_analysis['day_of_week'] = session_analysis['session_start'].dt.day_name()\n",
    "\n",
    "avg_duration_by_day = session_analysis.groupby('day_of_week')['session_duration'].mean().reindex(\n",
    "    ['Monday', 'Tuesday', 'Wednesday', 'Thursday', 'Friday', 'Saturday', 'Sunday']\n",
    ")\n",
    "\n",
    "plt.figure(figsize=(10, 6))\n",
    "avg_duration_by_day.plot(kind='bar')\n",
    "plt.title('Average Session Duration by Day of the Week')\n",
    "plt.xlabel('Day of the Week')\n",
    "plt.ylabel('Average Session Duration (Minutes)')\n",
    "plt.show()\n"
   ]
  },
  {
   "cell_type": "code",
   "execution_count": null,
   "id": "0363e085-a866-4510-8352-0bedadcf2f50",
   "metadata": {},
   "outputs": [],
   "source": [
    "plt.figure(figsize=(12, 6))\n",
    "daily_playtime_hours.plot()\n",
    "\n",
    "plt.title('Daily Playtime (Hours)')\n",
    "plt.xlabel('Date')\n",
    "plt.ylabel('Total Playtime (Hours)')\n",
    "\n",
    "plt.gca().xaxis.set_major_locator(mdates.MonthLocator())  # Set major ticks to each month\n",
    "plt.gca().xaxis.set_major_formatter(mdates.DateFormatter('%b %Y'))  # Format ticks as \"Month Year\"\n",
    "\n",
    "# Rotate the x-axis labels for better readability\n",
    "plt.xticks(rotation=45)\n",
    "\n",
    "# Show the plot\n",
    "plt.show()\n"
   ]
  },
  {
   "cell_type": "code",
   "execution_count": null,
   "id": "33c834f6-a062-47da-b8e0-22cff2cd88c0",
   "metadata": {},
   "outputs": [],
   "source": [
    "session_analysis['hour'] = session_analysis['session_start'].dt.hour\n",
    "\n",
    "heatmap_data = session_analysis.groupby(['day_of_week', 'hour']).size().unstack().reindex(\n",
    "    ['Monday', 'Tuesday', 'Wednesday', 'Thursday', 'Friday', 'Saturday', 'Sunday']\n",
    ")\n",
    "\n",
    "\n",
    "plt.figure(figsize=(12, 6))\n",
    "sns.heatmap(heatmap_data, cmap=\"YlGnBu\", cbar_kws={'label': 'Number of Sessions'})\n",
    "plt.title('Listening Sessions by Day and Hour')\n",
    "plt.xlabel('Hour of the Day')\n",
    "plt.ylabel('Day of the Week')\n",
    "plt.show()\n"
   ]
  },
  {
   "cell_type": "code",
   "execution_count": null,
   "id": "63c3e6a5-2501-40ad-9ecb-d5e1f6eadf6a",
   "metadata": {},
   "outputs": [],
   "source": [
    "data['hour'] = data['endTime'].dt.hour\n",
    "hourly_playtime = data.groupby('hour')['msPlayed'].sum()/(1000*60*60)\n",
    "\n",
    "# Plot the most active listening hours\n",
    "plt.figure(figsize=(12, 6))\n",
    "hourly_playtime.plot(kind='bar')\n",
    "plt.title('Most Active Listening Hours')\n",
    "plt.xlabel('Hour of Day')\n",
    "plt.ylabel('Total Playtime (hours)')\n",
    "plt.show()\n"
   ]
  },
  {
   "cell_type": "code",
   "execution_count": null,
   "id": "09b60d03-f8e1-4a9a-9dec-eba18429da48",
   "metadata": {},
   "outputs": [],
   "source": [
    "data['rolling_playtime'] = data['msPlayed'].rolling(window=7).mean()/1000\n",
    "\n",
    "# Plot the rolling average of daily playtime\n",
    "plt.figure(figsize=(12, 6))\n",
    "plt.plot(data['endTime'], data['rolling_playtime'])\n",
    "plt.title('7-Day Rolling Average of Playtime')\n",
    "plt.xlabel('Date')\n",
    "plt.ylabel('Rolling Playtime (seconds)')\n",
    "plt.show()\n"
   ]
  },
  {
   "cell_type": "code",
   "execution_count": null,
   "id": "d740d2ef-1a97-4edc-a70e-b03a58f5e3cb",
   "metadata": {},
   "outputs": [],
   "source": []
  }
 ],
 "metadata": {
  "kernelspec": {
   "display_name": "Python 3 (ipykernel)",
   "language": "python",
   "name": "python3"
  },
  "language_info": {
   "codemirror_mode": {
    "name": "ipython",
    "version": 3
   },
   "file_extension": ".py",
   "mimetype": "text/x-python",
   "name": "python",
   "nbconvert_exporter": "python",
   "pygments_lexer": "ipython3",
   "version": "3.12.4"
  }
 },
 "nbformat": 4,
 "nbformat_minor": 5
}
